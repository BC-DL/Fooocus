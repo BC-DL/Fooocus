pip Install pygit2==1.12.2 sed /content lgit clone httes://althub.com/lllyasviel/Fooocus.q1t
Scd /content /Fooocus/models/upscale models/ twget -0 fooocus_upscaler_$409985c5.bin httos://huggIneface.co/Lllyasviel/mise/resolve/maln/fooocus_ upscaler_$409985c5.bin?download=true
Sed /content/Fooocus
python entry with update.py -shard
